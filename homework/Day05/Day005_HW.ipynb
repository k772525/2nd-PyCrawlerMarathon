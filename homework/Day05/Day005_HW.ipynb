{
 "cells": [
  {
   "cell_type": "markdown",
   "metadata": {},
   "source": [
    "# API 資料串接 - 以 Dcard API 實作範例\n",
    "\n",
    "* 了解 Dcard API 使用方式與回傳內容\n",
    "* 撰寫程式存取 API 且解析 JSON 格式資料\n"
   ]
  },
  {
   "cell_type": "markdown",
   "metadata": {},
   "source": [
    "## 作業目標\n",
    "\n",
    "* 請利用 API: https://www.dcard.tw/_api/forums/pet/posts?popular=true 回答下列問題：\n",
    "\n",
    "1. 這個 API 一次會回傳幾筆資料？每一筆資料包含哪些欄位？\n",
    "2. 取出每一筆資料的「標題」、「貼文時間」、「留言人數」、「按讚人數」\n",
    "3. 計算熱門/非熱門文章的「平均留言人數」與「平均按讚人數」"
   ]
  },
  {
   "cell_type": "code",
   "execution_count": 1,
   "metadata": {},
   "outputs": [
    {
     "name": "stdout",
     "output_type": "stream",
     "text": [
      "這個 API 一次會回傳30筆資料\n",
      "每一筆資料包含以下資料: dict_keys(['id', 'title', 'excerpt', 'anonymousSchool', 'anonymousDepartment', 'pinned', 'forumId', 'replyId', 'createdAt', 'updatedAt', 'commentCount', 'likeCount', 'withNickname', 'tags', 'topics', 'meta', 'forumName', 'forumAlias', 'gender', 'school', 'replyTitle', 'mediaMeta', 'reactions', 'hidden', 'customStyle', 'isSuspiciousAccount', 'layout', 'withImages', 'withVideos', 'media', 'reportReasonText', 'postAvatar'])\n"
     ]
    }
   ],
   "source": [
    "# 1. 這個 API 一次會回傳幾筆資料？每一筆資料包含哪些欄位？\n",
    "\n",
    "import requests\n",
    "r = requests.get('https://www.dcard.tw/_api/forums/pet/posts?popular=true')\n",
    "response = r.text\n",
    "\n",
    "import json\n",
    "data = json.loads(response)\n",
    "count_number = 0\n",
    "\n",
    "for d in data:\n",
    "    count_number += 1\n",
    "print('這個 API 一次會回傳%s筆資料' % count_number)\n",
    "print('每一筆資料包含以下資料:',data[1].keys())"
   ]
  },
  {
   "cell_type": "code",
   "execution_count": 2,
   "metadata": {},
   "outputs": [
    {
     "name": "stdout",
     "output_type": "stream",
     "text": [
      "標題: 當你想洗澡 貼文時間: 2020-02-26T00:16:31.227Z 留言人數: 165 按讚人數: 11002\n",
      "標題: 獨一無二的公仔柴🥺 貼文時間: 2020-02-26T00:50:14.770Z 留言人數: 39 按讚人數: 1775\n",
      "標題: 養了一隻小老虎！？ 貼文時間: 2020-02-26T14:44:47.830Z 留言人數: 41 按讚人數: 1540\n",
      "標題: 你要工人？ 貼文時間: 2020-02-26T18:35:16.716Z 留言人數: 5 按讚人數: 239\n",
      "標題: 有人有看過這麼有喜感的貓嗎 貼文時間: 2020-02-27T00:41:45.740Z 留言人數: 8 按讚人數: 99\n",
      "標題: 我家鸚鵡終於敢洗澡了 貼文時間: 2020-02-26T03:59:15.416Z 留言人數: 21 按讚人數: 60\n",
      "標題: 天氣好想拍貓 天氣不好想拍貓 貼文時間: 2020-02-26T17:05:42.877Z 留言人數: 0 按讚人數: 36\n",
      "標題: 柴上柴 貼文時間: 2020-02-26T06:47:10.008Z 留言人數: 1 按讚人數: 36\n",
      "標題: 我的夢幻玉米蛇😭 貼文時間: 2020-02-26T17:59:21.848Z 留言人數: 9 按讚人數: 30\n",
      "標題: 小蝦蝦不知道可不可以上熱門🥺 貼文時間: 2020-02-26T22:13:53.583Z 留言人數: 5 按讚人數: 25\n",
      "標題: 讓天竺鼠可以上高鐵 貼文時間: 2020-02-26T03:17:07.735Z 留言人數: 8 按讚人數: 22\n",
      "標題: 柯基遊櫻花季-短腿到底怎麼拍啦 貼文時間: 2020-02-26T04:03:56.080Z 留言人數: 4 按讚人數: 18\n",
      "標題: #圖 飼料也有命中注定？！ 貼文時間: 2020-02-26T10:30:31.175Z 留言人數: 1 按讚人數: 16\n",
      "標題: 家寵醜照大公開 貼文時間: 2020-02-26T09:51:32.971Z 留言人數: 8 按讚人數: 16\n",
      "標題: 不喜歡洗澡的狗 貼文時間: 2020-02-27T01:06:35.270Z 留言人數: 4 按讚人數: 13\n",
      "標題: 新聞蛙蛙蛙 貼文時間: 2020-02-26T11:04:03.310Z 留言人數: 9 按讚人數: 13\n",
      "標題: 換牙什麼都想咬的頭痛貓貓🦷 貼文時間: 2020-02-26T04:03:47.759Z 留言人數: 4 按讚人數: 13\n",
      "標題: 家裡的貓 很吵怎麼辦 貼文時間: 2020-02-25T21:05:50.671Z 留言人數: 7 按讚人數: 13\n",
      "標題: 家有隻混了米克斯的金吉拉 貼文時間: 2020-02-26T08:26:38.245Z 留言人數: 1 按讚人數: 12\n",
      "標題: （藏獒）天氣這麼好就是要睡覺啊 貼文時間: 2020-02-26T10:52:25.053Z 留言人數: 3 按讚人數: 11\n",
      "標題: 台中兔兔送養🐰 貼文時間: 2020-02-26T08:30:58.229Z 留言人數: 5 按讚人數: 9\n",
      "標題: 看起來很衰的臘腸狗 貼文時間: 2020-02-27T03:24:54.078Z 留言人數: 0 按讚人數: 8\n",
      "標題: #圖#鬆獅蜥#鎖匠師傅？ 貼文時間: 2020-02-26T14:20:09.986Z 留言人數: 2 按讚人數: 8\n",
      "標題: 同學你的貓豪口愛(灬ºωº灬)♡ 貼文時間: 2020-02-26T10:36:21.560Z 留言人數: 0 按讚人數: 8\n",
      "標題: 求幫推！屏東貓咪走失 貼文時間: 2020-02-26T03:10:52.018Z 留言人數: 0 按讚人數: 8\n",
      "標題: 來一份豪邁 貼文時間: 2020-02-26T09:55:33.185Z 留言人數: 0 按讚人數: 6\n",
      "標題: 柴柴從後面看像什麼！ 貼文時間: 2020-02-26T18:19:46.140Z 留言人數: 0 按讚人數: 5\n",
      "標題: 貓哪裡好 貼文時間: 2020-02-25T23:09:41.888Z 留言人數: 20 按讚人數: 5\n",
      "標題: 習慣躺枕頭睡覺 貼文時間: 2020-02-27T05:50:41.877Z 留言人數: 0 按讚人數: 4\n",
      "標題: 倒下的貓 貼文時間: 2020-02-27T06:28:59.575Z 留言人數: 0 按讚人數: 3\n"
     ]
    }
   ],
   "source": [
    "# 2. 取出每一筆資料的「標題」、「貼文時間」、「留言人數」、「按讚人數」\n",
    "\n",
    "for d in data:\n",
    "    print('標題:',d['title'],'貼文時間:',d['createdAt'],'留言人數:',d['commentCount'],'按讚人數:',d['likeCount'])"
   ]
  },
  {
   "cell_type": "code",
   "execution_count": 3,
   "metadata": {},
   "outputs": [
    {
     "name": "stdout",
     "output_type": "stream",
     "text": [
      "熱門文章的「平均留言人數」: 12.333333333333334\n",
      "熱門文章的「平均按讚人數」: 250.88333333333333\n",
      "非熱門文章的「平均留言人數」: 12.333333333333334\n",
      "非熱門文章的「平均按讚人數」: 35.78333333333333\n"
     ]
    }
   ],
   "source": [
    "# 3. 計算熱門/非熱門文章的「平均留言人數」與「平均按讚人數」\n",
    "\n",
    "# 先初始設定熱門文章數量\n",
    "count_number = 0\n",
    "\n",
    "# 計算熱門文章的「平均留言人數」\n",
    "comment_count = 0\n",
    "for comment in data:\n",
    "    count_number += 1\n",
    "    comment_count += comment['commentCount']\n",
    "print('熱門文章的「平均留言人數」:', comment_count/count_number)\n",
    "\n",
    "# 計算熱門文章的「平均按讚人數」\n",
    "like_count = 0\n",
    "for like in data:\n",
    "    count_number += 1\n",
    "    like_count += like['likeCount']\n",
    "print('熱門文章的「平均按讚人數」:', like_count/count_number)\n",
    "\n",
    "# 取得非熱門文章資料\n",
    "# 引入函式庫 ps.f為false之意\n",
    "rf = requests.get('https://www.dcard.tw/_api/forums/pet/posts?popular=false')\n",
    "# 想要爬資料的⽬標網址\n",
    "responsef = rf.text\n",
    "\n",
    "dataf = json.loads(responsef)\n",
    "\n",
    "# 先初始設定非熱門文章數量\n",
    "countf_number = 0\n",
    "\n",
    "# 計算熱門文章的「平均留言人數」\n",
    "commentf_count = 0\n",
    "for commentf in data:\n",
    "    countf_number += 1\n",
    "    commentf_count += commentf['commentCount']\n",
    "\n",
    "print('非熱門文章的「平均留言人數」:', commentf_count/countf_number)\n",
    "\n",
    "# 計算非熱門文章的「平均按讚人數」\n",
    "likef_count = 0\n",
    "\n",
    "for likef in dataf:\n",
    "    countf_number +=1\n",
    "    likef_count += likef['likeCount']\n",
    "print('非熱門文章的「平均按讚人數」:', likef_count/countf_number)"
   ]
  },
  {
   "cell_type": "code",
   "execution_count": null,
   "metadata": {},
   "outputs": [],
   "source": []
  },
  {
   "cell_type": "code",
   "execution_count": null,
   "metadata": {},
   "outputs": [],
   "source": []
  }
 ],
 "metadata": {
  "kernelspec": {
   "display_name": "Python 3",
   "language": "python",
   "name": "python3"
  },
  "language_info": {
   "codemirror_mode": {
    "name": "ipython",
    "version": 3
   },
   "file_extension": ".py",
   "mimetype": "text/x-python",
   "name": "python",
   "nbconvert_exporter": "python",
   "pygments_lexer": "ipython3",
   "version": "3.7.4"
  }
 },
 "nbformat": 4,
 "nbformat_minor": 2
}
