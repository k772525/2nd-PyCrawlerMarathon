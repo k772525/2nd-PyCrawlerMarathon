{
 "cells": [
  {
   "cell_type": "markdown",
   "metadata": {},
   "source": [
    "# Python 下載XML檔案與解析\n",
    "\n",
    "\n",
    "* 了解 xml 檔案格式與內容\n",
    "* 能夠利用套件存取 xml 格式的檔案\n"
   ]
  },
  {
   "cell_type": "markdown",
   "metadata": {},
   "source": [
    "## 作業目標\n",
    "\n",
    "* 比較一下範例檔案中的「File I/O」與「xmltodict」讀出來的內容有什麼差異\n",
    "\n",
    "* 根據範例檔案的結果：\n",
    "    1. 請問高雄市有多少地區有溫度資料？\n",
    "    2. 請取出每一個地區所記錄的第一個時間點跟溫度\n",
    "    3. 請取出第一個地區所記錄的每一個時間點跟溫度"
   ]
  },
  {
   "cell_type": "markdown",
   "metadata": {},
   "source": [
    "### 比較一下範例檔案中的「File I/O」與「xmltodict」讀出來的內容有什麼差異\n"
   ]
  },
  {
   "cell_type": "code",
   "execution_count": 1,
   "metadata": {},
   "outputs": [],
   "source": [
    "#下載檔案\n",
    "import urllib.request\n",
    "import zipfile\n",
    "downloadURL = \"http://opendata.cwb.gov.tw/govdownload?dataid=F-D0047-093&authorizationkey=rdec-key-123-45678-011121314\"\n",
    "urllib.request.urlretrieve(downloadURL, \"./data/example.zip\")\n",
    "file = zipfile.ZipFile('./data/example.zip')\n",
    "file.extractall('./data/Day003_Data')"
   ]
  },
  {
   "cell_type": "code",
   "execution_count": 2,
   "metadata": {},
   "outputs": [
    {
     "name": "stdout",
     "output_type": "stream",
     "text": [
      "<class 'str'> \n",
      "\n",
      "<?xml version=\"1.0\" encoding=\"utf-8\"?>\n",
      "<cwbopendata xmlns=\"urn:cwb:gov:tw:cwbcommon:0.1\">\n",
      "  <identifier>ce7dbf32-c3fa-4eeb-98d4-daeee743f824</identifier>\n",
      "  <sender>weather@cwb.gov.tw</sender>\n",
      "  <sent>2020-02-27T12:19:40+08:00</sent>\n",
      "  <status>Actual</status>\n",
      "  <scope>Public</scope>\n",
      "  <msgType>Issue</msgType>\n",
      "  <dataid>D0047-091</dataid>\n",
      "  <source>MFC</source>\n",
      "  <dataset>\n",
      "    <datasetInfo>\n",
      "      <datasetDescription>臺灣各縣市鄉鎮未來1週逐12小時天氣預報</datasetDescription>\n",
      "      <datasetLanguage>zh-TW</datasetLanguage>\n",
      "      <issueTime>2020-02-27T11:00:00+08:00</issueTime>\n",
      "      <validTime>\n",
      "        <startTime>2020-02-27T12:00:00+08:00</startTime>\n",
      "        <endTime>2020-03-06T11:00:00+08:00</endTime>\n",
      "      </validTime>\n",
      "      <update>2020-02-27T12:19:40+08:00</update>\n",
      "    </datasetInfo>\n",
      "    <locations>\n",
      "      <locationsName>台灣</locationsName>\n",
      "      <location>\n",
      "        <locationName>連江縣</locationName>\n",
      "        <geocode>09007</geocode>\n",
      "        <lat>26.154204</lat>\n",
      "        <lon>119.929303</lon>\n",
      "        <weatherE\n"
     ]
    }
   ],
   "source": [
    "# Read the File\n",
    "content=open(\"./data/Day003_Data/TAIWAN_Weekday_CH.xml\",\"r\",encoding=\"utf-8\")\n",
    "xml=content.read()\n",
    "content.close()\n",
    "print(type(xml),'\\n')\n",
    "print(xml[:1000])"
   ]
  },
  {
   "cell_type": "code",
   "execution_count": 3,
   "metadata": {},
   "outputs": [
    {
     "name": "stdout",
     "output_type": "stream",
     "text": [
      "\n",
      "      <datasetDescription>臺灣各縣市鄉鎮未來1週逐12小時天氣預報</datasetDescription>\n",
      "      <datasetLanguage>zh-TW</datasetLanguage>\n",
      "      <issueTime>2020-02-27T11:00:00+08:00</issueTime>\n",
      "      <validTime>\n",
      "        <startTime>2020-02-27T12:00:00+08:00</startTime>\n",
      "        <endTime>2020-03-06T11:00:00+08:00</endTime>\n",
      "      </validTime>\n",
      "      <update>2020-02-27T12:19:40+08:00\n"
     ]
    }
   ],
   "source": [
    "print(xml[391:748])"
   ]
  },
  {
   "cell_type": "markdown",
   "metadata": {},
   "source": [
    "### 根據範例檔案的結果：\n",
    "\n",
    "1. 請問高雄市有多少地區有溫度資料？\n",
    "2. 請取出每一個地區所記錄的第一個時間點跟溫度\n",
    "3. 請取出第一個地區所記錄的每一個時間點跟溫度"
   ]
  },
  {
   "cell_type": "code",
   "execution_count": 4,
   "metadata": {},
   "outputs": [
    {
     "name": "stdout",
     "output_type": "stream",
     "text": [
      "高雄有 38 個地區有溫度資料\n"
     ]
    },
    {
     "data": {
      "text/plain": [
       "\"other way\\n count_number = 0\\n area_tempers = doc['cwbopendata']['dataset']['locations']['location']#\\n for area_temper in area_tempers:\\n     for weatherElement in area_temper['weatherElement']:\\n         if weatherElement['description'] == '溫度':\\n             count_number += 1\\nprint('高雄有%s個地區有溫度資料' % count_number)\\n\""
      ]
     },
     "execution_count": 4,
     "metadata": {},
     "output_type": "execute_result"
    }
   ],
   "source": [
    "# 1. 請問高雄市有多少地區有溫度資料？\n",
    "\n",
    "import xmltodict\n",
    "\n",
    "with open('./data/Day003_Data/64_72hr_CH.xml', encoding='UTF-8') as fd:\n",
    "    doc = xmltodict.parse(fd.read())\n",
    "\n",
    "area_tempers = doc['cwbopendata']['dataset']['locations']['location']\n",
    "\n",
    "print('高雄有', len(area_tempers), '個地區有溫度資料')\n",
    "\n",
    "'''other way\n",
    " count_number = 0\n",
    " area_tempers = doc['cwbopendata']['dataset']['locations']['location']#\n",
    " for area_temper in area_tempers:\n",
    "     for weatherElement in area_temper['weatherElement']:\n",
    "         if weatherElement['description'] == '溫度':\n",
    "             count_number += 1\n",
    "print('高雄有%s個地區有溫度資料' % count_number)\n",
    "'''"
   ]
  },
  {
   "cell_type": "code",
   "execution_count": 5,
   "metadata": {},
   "outputs": [
    {
     "name": "stdout",
     "output_type": "stream",
     "text": [
      "鹽埕區\n",
      "2020-02-27T12:00:00+08:00\n",
      "26 攝氏度\n",
      "鼓山區\n",
      "2020-02-27T12:00:00+08:00\n",
      "26 攝氏度\n",
      "左營區\n",
      "2020-02-27T12:00:00+08:00\n",
      "26 攝氏度\n",
      "楠梓區\n",
      "2020-02-27T12:00:00+08:00\n",
      "26 攝氏度\n",
      "三民區\n",
      "2020-02-27T12:00:00+08:00\n",
      "25 攝氏度\n",
      "新興區\n",
      "2020-02-27T12:00:00+08:00\n",
      "26 攝氏度\n",
      "前金區\n",
      "2020-02-27T12:00:00+08:00\n",
      "26 攝氏度\n",
      "苓雅區\n",
      "2020-02-27T12:00:00+08:00\n",
      "26 攝氏度\n",
      "前鎮區\n",
      "2020-02-27T12:00:00+08:00\n",
      "26 攝氏度\n",
      "旗津區\n",
      "2020-02-27T12:00:00+08:00\n",
      "26 攝氏度\n",
      "小港區\n",
      "2020-02-27T12:00:00+08:00\n",
      "27 攝氏度\n",
      "鳳山區\n",
      "2020-02-27T12:00:00+08:00\n",
      "27 攝氏度\n",
      "林園區\n",
      "2020-02-27T12:00:00+08:00\n",
      "27 攝氏度\n",
      "大寮區\n",
      "2020-02-27T12:00:00+08:00\n",
      "27 攝氏度\n",
      "大樹區\n",
      "2020-02-27T12:00:00+08:00\n",
      "29 攝氏度\n",
      "大社區\n",
      "2020-02-27T12:00:00+08:00\n",
      "27 攝氏度\n",
      "仁武區\n",
      "2020-02-27T12:00:00+08:00\n",
      "27 攝氏度\n",
      "鳥松區\n",
      "2020-02-27T12:00:00+08:00\n",
      "27 攝氏度\n",
      "岡山區\n",
      "2020-02-27T12:00:00+08:00\n",
      "27 攝氏度\n",
      "橋頭區\n",
      "2020-02-27T12:00:00+08:00\n",
      "27 攝氏度\n",
      "燕巢區\n",
      "2020-02-27T12:00:00+08:00\n",
      "27 攝氏度\n",
      "田寮區\n",
      "2020-02-27T12:00:00+08:00\n",
      "27 攝氏度\n",
      "阿蓮區\n",
      "2020-02-27T12:00:00+08:00\n",
      "27 攝氏度\n",
      "路竹區\n",
      "2020-02-27T12:00:00+08:00\n",
      "27 攝氏度\n",
      "湖內區\n",
      "2020-02-27T12:00:00+08:00\n",
      "26 攝氏度\n",
      "茄萣區\n",
      "2020-02-27T12:00:00+08:00\n",
      "26 攝氏度\n",
      "永安區\n",
      "2020-02-27T12:00:00+08:00\n",
      "26 攝氏度\n",
      "彌陀區\n",
      "2020-02-27T12:00:00+08:00\n",
      "26 攝氏度\n",
      "梓官區\n",
      "2020-02-27T12:00:00+08:00\n",
      "26 攝氏度\n",
      "旗山區\n",
      "2020-02-27T12:00:00+08:00\n",
      "28 攝氏度\n",
      "美濃區\n",
      "2020-02-27T12:00:00+08:00\n",
      "29 攝氏度\n",
      "六龜區\n",
      "2020-02-27T12:00:00+08:00\n",
      "28 攝氏度\n",
      "甲仙區\n",
      "2020-02-27T12:00:00+08:00\n",
      "29 攝氏度\n",
      "杉林區\n",
      "2020-02-27T12:00:00+08:00\n",
      "29 攝氏度\n",
      "內門區\n",
      "2020-02-27T12:00:00+08:00\n",
      "28 攝氏度\n",
      "茂林區\n",
      "2020-02-27T12:00:00+08:00\n",
      "28 攝氏度\n",
      "桃源區\n",
      "2020-02-27T12:00:00+08:00\n",
      "26 攝氏度\n",
      "那瑪夏區\n",
      "2020-02-27T12:00:00+08:00\n",
      "25 攝氏度\n"
     ]
    },
    {
     "data": {
      "text/plain": [
       "\"\\nother way\\n areas_temper = doc['cwbopendata']['dataset']['locations']['location']\\n for area_temper in areas_temper:\\n     for weatherElement in area_temper['weatherElement']:\\n         if weatherElement['description'] == '溫度':\\n             print(area_temper['locationName'], weatherElement['time'][0]['dataTime'], weatherElement['time'][0]['elementValue']['value'], weatherElement['time'][0]['elementValue']['measures'])\\n\""
      ]
     },
     "execution_count": 5,
     "metadata": {},
     "output_type": "execute_result"
    }
   ],
   "source": [
    "# 2. 請取出每一個地區所記錄的第一個時間點跟溫度\n",
    "\n",
    "for area_temper in area_tempers:\n",
    "    print(area_temper['locationName'])\n",
    "    print(area_temper['weatherElement'][0]['time'][0]['dataTime'])\n",
    "    print(area_temper['weatherElement'][0]['time'][0]['elementValue']['value'], area_temper['weatherElement'][0]['time'][0]['elementValue']['measures'])\n",
    "\n",
    "'''\n",
    "other way\n",
    " areas_temper = doc['cwbopendata']['dataset']['locations']['location']\n",
    " for area_temper in areas_temper:\n",
    "     for weatherElement in area_temper['weatherElement']:\n",
    "         if weatherElement['description'] == '溫度':\n",
    "             print(area_temper['locationName'], weatherElement['time'][0]['dataTime'], weatherElement['time'][0]['elementValue']['value'], weatherElement['time'][0]['elementValue']['measures'])\n",
    "'''"
   ]
  },
  {
   "cell_type": "code",
   "execution_count": 6,
   "metadata": {},
   "outputs": [
    {
     "name": "stdout",
     "output_type": "stream",
     "text": [
      "鹽埕區\n",
      "2020-02-27T12:00:00+08:00\n",
      "26 攝氏度\n",
      "2020-02-27T15:00:00+08:00\n",
      "26 攝氏度\n",
      "2020-02-27T18:00:00+08:00\n",
      "25 攝氏度\n",
      "2020-02-27T21:00:00+08:00\n",
      "23 攝氏度\n",
      "2020-02-28T00:00:00+08:00\n",
      "22 攝氏度\n",
      "2020-02-28T03:00:00+08:00\n",
      "21 攝氏度\n",
      "2020-02-28T06:00:00+08:00\n",
      "21 攝氏度\n",
      "2020-02-28T09:00:00+08:00\n",
      "22 攝氏度\n",
      "2020-02-28T12:00:00+08:00\n",
      "26 攝氏度\n",
      "2020-02-28T15:00:00+08:00\n",
      "26 攝氏度\n",
      "2020-02-28T18:00:00+08:00\n",
      "25 攝氏度\n",
      "2020-02-28T21:00:00+08:00\n",
      "24 攝氏度\n",
      "2020-02-29T00:00:00+08:00\n",
      "23 攝氏度\n",
      "2020-02-29T03:00:00+08:00\n",
      "22 攝氏度\n",
      "2020-02-29T06:00:00+08:00\n",
      "22 攝氏度\n",
      "2020-02-29T09:00:00+08:00\n",
      "24 攝氏度\n",
      "2020-02-29T12:00:00+08:00\n",
      "28 攝氏度\n",
      "2020-02-29T15:00:00+08:00\n",
      "29 攝氏度\n",
      "2020-02-29T18:00:00+08:00\n",
      "27 攝氏度\n",
      "2020-02-29T21:00:00+08:00\n",
      "26 攝氏度\n",
      "2020-03-01T00:00:00+08:00\n",
      "24 攝氏度\n",
      "2020-03-01T03:00:00+08:00\n",
      "24 攝氏度\n",
      "2020-03-01T06:00:00+08:00\n",
      "23 攝氏度\n",
      "2020-03-01T09:00:00+08:00\n",
      "25 攝氏度\n"
     ]
    },
    {
     "data": {
      "text/plain": [
       "\"\\nother way\\nareas_temper = doc['cwbopendata']['dataset']['locations']['location']\\n for area_temper in areas_temper:\\n     if area_temper['locationName'] == '鹽埕區':\\n         for weatherElement in area_temper['weatherElement']:\\n             if weatherElement['description'] == '溫度':\\n                 for time in weatherElement['time']:\\n                     print(time['dataTime'], time['elementValue']['value'], time['elementValue']['measures'])\""
      ]
     },
     "execution_count": 6,
     "metadata": {},
     "output_type": "execute_result"
    }
   ],
   "source": [
    "# 3. 請取出第一個地區所記錄的每一個時間點跟溫度\n",
    "area = area_tempers[0]\n",
    "print(area['locationName'])\n",
    "\n",
    "for area1 in area['weatherElement'][0]['time']:\n",
    "    print(area1['dataTime'])\n",
    "    print(area1['elementValue']['value'], area1['elementValue']['measures'])\n",
    "    \n",
    "'''\n",
    "other way\n",
    "areas_temper = doc['cwbopendata']['dataset']['locations']['location']\n",
    " for area_temper in areas_temper:\n",
    "     if area_temper['locationName'] == '鹽埕區':\n",
    "         for weatherElement in area_temper['weatherElement']:\n",
    "             if weatherElement['description'] == '溫度':\n",
    "                 for time in weatherElement['time']:\n",
    "                     print(time['dataTime'], time['elementValue']['value'], time['elementValue']['measures'])'''"
   ]
  },
  {
   "cell_type": "code",
   "execution_count": null,
   "metadata": {},
   "outputs": [],
   "source": []
  }
 ],
 "metadata": {
  "kernelspec": {
   "display_name": "Python 3",
   "language": "python",
   "name": "python3"
  },
  "language_info": {
   "codemirror_mode": {
    "name": "ipython",
    "version": 3
   },
   "file_extension": ".py",
   "mimetype": "text/x-python",
   "name": "python",
   "nbconvert_exporter": "python",
   "pygments_lexer": "ipython3",
   "version": "3.7.4"
  }
 },
 "nbformat": 4,
 "nbformat_minor": 2
}
